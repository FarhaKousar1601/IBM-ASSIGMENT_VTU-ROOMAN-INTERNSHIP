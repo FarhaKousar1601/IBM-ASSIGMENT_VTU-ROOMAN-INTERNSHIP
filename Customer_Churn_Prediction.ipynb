{
  "nbformat": 4,
  "nbformat_minor": 0,
  "metadata": {
    "colab": {
      "provenance": [],
      "authorship_tag": "ABX9TyMp46NKiFwh1d+s+k3ZS9EW",
      "include_colab_link": true
    },
    "kernelspec": {
      "name": "python3",
      "display_name": "Python 3"
    },
    "language_info": {
      "name": "python"
    }
  },
  "cells": [
    {
      "cell_type": "markdown",
      "metadata": {
        "id": "view-in-github",
        "colab_type": "text"
      },
      "source": [
        "<a href=\"https://colab.research.google.com/github/FarhaKousar1601/IBM-ASSIGMENT_VTU-ROOMAN-INTERNSHIP/blob/main/Customer_Churn_Prediction.ipynb\" target=\"_parent\"><img src=\"https://colab.research.google.com/assets/colab-badge.svg\" alt=\"Open In Colab\"/></a>"
      ]
    },
    {
      "cell_type": "code",
      "execution_count": 1,
      "metadata": {
        "colab": {
          "base_uri": "https://localhost:8080/"
        },
        "id": "AP9-JtXtiVTm",
        "outputId": "7a1a130a-96f9-4034-9e98-04a2a454380e"
      },
      "outputs": [
        {
          "output_type": "stream",
          "name": "stdout",
          "text": [
            "Churn Summary:\n",
            "             Age    Tenure\n",
            "Churn                     \n",
            "0      36.583333  5.333333\n",
            "1      30.625000  3.375000\n",
            "\n",
            "Model Accuracy: 0.75\n"
          ]
        }
      ],
      "source": [
        "# Import necessary libraries\n",
        "import pandas as pd\n",
        "from sklearn.model_selection import train_test_split\n",
        "from sklearn.linear_model import LogisticRegression\n",
        "from sklearn.metrics import accuracy_score\n",
        "\n",
        "# Step 1: Data Aggregation\n",
        "# Create a sample customer dataset\n",
        "# This dataset includes hypothetical data with 'CustomerID', 'Age', 'Tenure', and 'Churn' (1 = churned, 0 = not churned)\n",
        "data = {\n",
        "    'CustomerID': range(1, 21),\n",
        "    'Age': [23, 35, 45, 32, 50, 25, 38, 29, 41, 30, 28, 31, 26, 40, 27, 33, 39, 42, 34, 36],\n",
        "    'Tenure': [2, 5, 7, 3, 8, 1, 6, 4, 7, 3, 2, 4, 1, 8, 3, 5, 6, 7, 4, 5],\n",
        "    'Churn': [1, 0, 1, 0, 0, 1, 0, 1, 0, 0, 1, 0, 1, 0, 1, 0, 0, 1, 0, 0]\n",
        "}\n",
        "df = pd.DataFrame(data)\n",
        "\n",
        "# Aggregate data to find the average 'Age' and 'Tenure' of customers who churned vs. who didn’t\n",
        "churn_summary = df.groupby('Churn').agg({'Age': 'mean', 'Tenure': 'mean'})\n",
        "print(\"Churn Summary:\")\n",
        "print(churn_summary)\n",
        "\n",
        "# Step 2: Data Splitting\n",
        "# Define features (X) and target variable (y)\n",
        "X = df[['Age', 'Tenure']]\n",
        "y = df['Churn']\n",
        "\n",
        "# Split data into training (80%) and testing (20%) sets\n",
        "X_train, X_test, y_train, y_test = train_test_split(X, y, test_size=0.2, random_state=42)\n",
        "\n",
        "# Step 3: Model Training\n",
        "# Initialize and train a logistic regression model\n",
        "model = LogisticRegression()\n",
        "model.fit(X_train, y_train)\n",
        "\n",
        "# Step 4: Model Evaluation\n",
        "# Predict on the test set\n",
        "y_pred = model.predict(X_test)\n",
        "\n",
        "# Calculate and print the accuracy score\n",
        "accuracy = accuracy_score(y_test, y_pred)\n",
        "print(f\"\\nModel Accuracy: {accuracy:.2f}\")\n",
        "\n",
        "\n"
      ]
    }
  ]
}